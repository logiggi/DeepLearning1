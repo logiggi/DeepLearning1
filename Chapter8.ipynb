{
 "cells": [
  {
   "cell_type": "markdown",
   "metadata": {},
   "source": [
    "# Chapter 8: 딥러닝\n",
    "---\n",
    "\n",
    "딥러닝: 층을 깊게 한 심층 신경망"
   ]
  },
  {
   "cell_type": "markdown",
   "metadata": {},
   "source": [
    "##### 8.1 더 깊게\n",
    "\n",
    "이번 장에서 목표하는 손글씨 숫자를 인식하는 심층 CNN\n",
    "\n",
    "<img src=\"./img/ch8-1.png\" width=600>   \n",
    "\n",
    "* 3 X 3의 작은 필터를 사용한 합성곱 계층\n",
    "* 활성화 함수 = ```ReLU```\n",
    "* 완전연결 계층 뒤에 드롭 아웃 계층 사용\n",
    "* Adam 을 사용해 최적화\n",
    "* 가중치 초기값 = ```He```\n",
    "\n",
    "**-> 정확도: 99.38%**"
   ]
  },
  {
   "cell_type": "markdown",
   "metadata": {},
   "source": [
    "데이터 확장: 입력 이미지를 알고리즘을 동원해 인위적으로 확장   \n",
    "\n",
    "<img src=\"./img/ch8-2.png\" width=600>   \n",
    "\n",
    "이 외에도 ```crop```, ```flip```, 확대 등 여러 방법 존재"
   ]
  },
  {
   "cell_type": "markdown",
   "metadata": {},
   "source": [
    "**층을 깊게 하는 이유**   \n",
    "* 신경망의 매개변수 수가 줄어듦 (5 X 5 필터 합성곱 1회 > 3 X 3 필터 합성곱 2회)\n",
    "* 학습의 효율성 -> 층을 깊게 함으로써 학습 데이터의 양을 줄여 학습을 고속으로 수행: 각 층이 학습해야 할 문제를 더 단순한 문제로 대체\n",
    "* 정보를 계층적으로 전달\n"
   ]
  },
  {
   "cell_type": "markdown",
   "metadata": {},
   "source": [
    "#### 8.2 딥러닝의 초기 역사\n",
    "* 이미지넷\n",
    "* VGG\n",
    "* GoogLeNet\n",
    "* ResNet"
   ]
  },
  {
   "cell_type": "markdown",
   "metadata": {},
   "source": [
    "#### 8.3 더 빠르게(딥러닝 고속화)   \n",
    "\n",
    "GPU를 활용한 고속화"
   ]
  },
  {
   "cell_type": "markdown",
   "metadata": {},
   "source": [
    "##### 8.4 딥러닝의 활용\n",
    "* 사물 검출\n",
    "* 분할\n",
    "* 사진 캡션 생성\n"
   ]
  },
  {
   "cell_type": "markdown",
   "metadata": {},
   "source": [
    "##### 8.5 딥러닝의 미래   \n",
    "\n",
    "* 이미지 스타일 변환\n",
    "* 이미지 생성\n",
    "* 자율 주행\n",
    "* 강화학습\n"
   ]
  },
  {
   "cell_type": "markdown",
   "metadata": {},
   "source": [
    "##### 8.6 정리"
   ]
  }
 ],
 "metadata": {
  "language_info": {
   "name": "python"
  },
  "orig_nbformat": 4
 },
 "nbformat": 4,
 "nbformat_minor": 2
}
