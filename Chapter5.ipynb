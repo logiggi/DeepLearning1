{
 "cells": [
  {
   "cell_type": "markdown",
   "metadata": {},
   "source": [
    "# Chapter 5: 오차역전파법\n",
    "---\n",
    "\n",
    "* 수치 미분은 단순하고 구현하기 쉽지만 계산 시간이 오래 걸리는 단점이 있다.\n",
    "* 오차역전파법: 가중치 매개변수의 기울기(미분)를 효율적으로 계산\n"
   ]
  },
  {
   "cell_type": "markdown",
   "metadata": {},
   "source": [
    "##### 5.1 계산 그래프   \n",
    ": 계산 과정을 그래프(노드, 엣지)로 표현\n",
    "   \n",
    "    \n",
    "* 예시 문제1: 현빈은 슈퍼에서 1개에 100원인 사과를 2개 샀습니다. 이 때 지불 금액을 구하세요. 단 소비세가 10% 부과됩니다.\n",
    "\n",
    "<img src=\"./img/ch5-1.png\" width=\"700\" height=\"400\">\n",
    "\n",
    "* 예시 문제2: 현빈은 슈퍼에서 사과를 2개, 귤을 3개 샀습니다. 사과는 1개에 100원, 귤은 1개에 150원입니다. 소비세가 10% 일 때 지불 금액을 구하세요.\n",
    "   \n",
    "<img src=\"./img/ch5-2.png\" width=\"700\" height=\"400\">\n",
    "\n",
    "* 계산 그래프를 이용한 문제풀이 흐름\n",
    "1. 계산 그래프를 구성한다.\n",
    "2. 그래프에서 계산을 왼쪽에서 오른쪽으로 진행한다. -> 순전파 <-> 역전파"
   ]
  },
  {
   "cell_type": "markdown",
   "metadata": {},
   "source": [
    "**계산 그래프의 특징**\n",
    "* 국소적 계산을 전파함으로써 최종 결과를 얻음.\n",
    "    * 국소적: 자신과 직접 관계된 작은 범위 -> 전체에서 어떤 일이 벌어지든 상관없이 자신과 관계된 정보만으로 결과를 출력"
   ]
  },
  {
   "cell_type": "markdown",
   "metadata": {},
   "source": [
    "**왜 계산 그래프로 푸는가?**\n",
    "   \n",
    "계산 그래프의 이점:\n",
    "* 국소적 계산\n",
    "* 중간 계산 결과를 모두 보관\n",
    "* **역전파를 통해 미분을 효율적으로 계산**   \n",
    "   \n",
    "\n",
    "<img src=\"./img/ch5-3.png\" width=\"750\" height=\"300\">\n",
    "   \n",
    "-> **순전파와 역전파를 활용해서 각 변수의 미분을 효율적으로 구할 수 있다!**\n"
   ]
  },
  {
   "cell_type": "markdown",
   "metadata": {},
   "source": [
    "##### 5.2 연쇄법칙\n",
    "\n",
    "<img src=\"./img/ch5-4.png\" width=\"300\" height=\"170\">   \n",
    "\n",
    ": 국소적 미분: 순전파 때의 $y = f(x)$ 계산의 미분을 구하는 것\n",
    "   \n",
    "* 합성 함수의 미분은 합성 함수를 구성하는 각 함수의 미분의 곱으로 나타낼 수 있다. => **연쇄법칙의 원리**   \n",
    "Ex)   \n",
    "$z = t^2, \\ t = x + y$ 일때,   \n",
    "$\\frac {\\partial z}{\\partial x} = \\frac{\\partial z}{\\partial t} \\frac{\\partial t}{\\partial x} = 2t \\cdot 1 = 2(x+y)$\n",
    "\n",
    "<img src=\"./img/ch5-5.png\" width=\"700\" height=\"300\">"
   ]
  },
  {
   "cell_type": "markdown",
   "metadata": {},
   "source": [
    "##### 5.3 역전파   \n",
    "\n",
    "<img src=\"./img/ch5-6.png\" width=\"700\" height=\"350\">   \n",
    "   \n",
    "<img src=\"./img/ch5-7.jpg\" width=\"700\" height=\"400\">\n",
    "   \n",
    "   \n",
    "<img src=\"./img/ch5-8.png\" width=\"500\" height=\"700\">"
   ]
  },
  {
   "cell_type": "markdown",
   "metadata": {},
   "source": [
    "##### 5.4 단순한 계층 구현하기\n",
    "\n",
    "* 사과 쇼핑 예를 파이썬으로 구현\n",
    "* MulLayer: 곱셈 노드, AddLayer: 덧셈 노드\n",
    "* forward(): 순전파, backward(): 역전파"
   ]
  },
  {
   "cell_type": "code",
   "execution_count": 22,
   "metadata": {},
   "outputs": [],
   "source": [
    "# 곱셈 계층 구현\n",
    "class MulLayer:\n",
    "    def __init__(self):\n",
    "        self.x = None\n",
    "        self.y = None\n",
    "        \n",
    "    def forward(self, x, y):\n",
    "        self.x = x\n",
    "        self.y = y\n",
    "        out = x * y\n",
    "        \n",
    "        return out\n",
    "    \n",
    "    def backward(self, dout):   # dout: 상류에서 넘어온 미분\n",
    "        # x와 y를 바꾼다.\n",
    "        dx = dout * self.y\n",
    "        dy = dout * self.x\n",
    "        \n",
    "        return dx, dy"
   ]
  },
  {
   "cell_type": "code",
   "execution_count": 24,
   "metadata": {},
   "outputs": [
    {
     "name": "stdout",
     "output_type": "stream",
     "text": [
      "220\n",
      "2.2 110 200\n"
     ]
    }
   ],
   "source": [
    "# 사과 쇼핑 구현\n",
    "apple = 100\n",
    "apple_cnt = 2\n",
    "tax = 1.1\n",
    "\n",
    "mul_apple_layer = MulLayer()\n",
    "mul_tax_layer = MulLayer()\n",
    "\n",
    "# 순전파\n",
    "apple_price = mul_apple_layer.forward(apple, apple_cnt)\n",
    "price = mul_tax_layer.forward(apple_price, tax)\n",
    "\n",
    "print(int(price))\n",
    "\n",
    "# 역전파\n",
    "d_price = 1\n",
    "d_apple_price, d_tax = mul_tax_layer.backward(d_price)\n",
    "d_apple, d_apple_cnt = mul_apple_layer.backward(d_apple_price)\n",
    "\n",
    "print(d_apple, int(d_apple_cnt), d_tax)"
   ]
  },
  {
   "cell_type": "code",
   "execution_count": 2,
   "metadata": {},
   "outputs": [],
   "source": [
    "# 덧셈 계층 구현\n",
    "class AddLayer:\n",
    "    def __init__(self):\n",
    "        pass    # 초기화 필요 없음\n",
    "        \n",
    "    def forward(self, x, y):\n",
    "        out = x + y\n",
    "        \n",
    "        return out\n",
    "    \n",
    "    def backward(self, dout):\n",
    "        dx = dout * 1\n",
    "        dy = dout * 1\n",
    "        \n",
    "        return dx, dy"
   ]
  },
  {
   "cell_type": "code",
   "execution_count": 26,
   "metadata": {},
   "outputs": [
    {
     "name": "stdout",
     "output_type": "stream",
     "text": [
      "715\n",
      "2.2 110 3.3 165 650\n"
     ]
    }
   ],
   "source": [
    "# 사과, 귤 쇼핑 구현\n",
    "apple = 100\n",
    "apple_cnt = 2\n",
    "orange = 150\n",
    "orange_cnt = 3\n",
    "tax = 1.1\n",
    "\n",
    "mul_apple_layer = MulLayer()\n",
    "mul_orange_layer = MulLayer()\n",
    "add_apple_orange_layer = AddLayer()\n",
    "mul_tax_layer = MulLayer()\n",
    "\n",
    "# 순전파\n",
    "apple_price = mul_apple_layer.forward(apple, apple_cnt)\n",
    "orange_price = mul_orange_layer.forward(orange, orange_cnt)\n",
    "apple_orange_price = add_apple_orange_layer.forward(apple_price, orange_price)\n",
    "price = mul_tax_layer.forward(apple_orange_price, tax)\n",
    "\n",
    "print(int(price))\n",
    "\n",
    "# 역전파\n",
    "d_price = 1\n",
    "d_apple_orange_price, d_tax = mul_tax_layer.backward(d_price)\n",
    "d_apple_price, d_orange_price = add_apple_orange_layer.backward(d_apple_orange_price)\n",
    "d_orange, d_orange_cnt = mul_orange_layer.backward(d_orange_price)\n",
    "d_apple, d_apple_cnt = mul_apple_layer.backward(d_apple_price)\n",
    "\n",
    "print(d_apple, int(d_apple_cnt), round(d_orange,1), int(d_orange_cnt), d_tax)"
   ]
  },
  {
   "cell_type": "markdown",
   "metadata": {},
   "source": [
    "##### 5.5 활성화 함수 계층 구현하기\n",
    "\n",
    "<img src=\"./img/ch5-9.jpg\" width=\"600\">"
   ]
  },
  {
   "cell_type": "code",
   "execution_count": 17,
   "metadata": {},
   "outputs": [],
   "source": [
    "# ReLU 계층 구현\n",
    "class Relu:\n",
    "    def __init__(self):\n",
    "        self.mask = None\n",
    "        \n",
    "    def foraward(self, x):\n",
    "        self.mask = (x <= 0)\n",
    "        out = x.copy()          # out에 x를 복사한 다음\n",
    "        out[self.mask] = 0      # x <= 0 인 원소에 0을 대입\n",
    "        \n",
    "        return 0\n",
    "    \n",
    "    def backward(self, dout):\n",
    "        dout[self.mask] = 0     # x <= 0 이면 0을 하류로 보낸다.\n",
    "        dx = dout\n",
    "        \n",
    "        return dx"
   ]
  },
  {
   "cell_type": "code",
   "execution_count": 19,
   "metadata": {},
   "outputs": [
    {
     "name": "stdout",
     "output_type": "stream",
     "text": [
      "[[ 1.  -0.5]\n",
      " [-2.   3. ]]\n",
      "[[False  True]\n",
      " [ True False]]\n",
      "[[1. 0.]\n",
      " [0. 3.]]\n"
     ]
    }
   ],
   "source": [
    "import numpy as np\n",
    "# mask 예제\n",
    "x = np.array([[1.0, -0.5], [-2.0, 3.0]])\n",
    "print(x)\n",
    "mask = (x <= 0)\n",
    "print(mask)\n",
    "x[mask] = 0\n",
    "print(x)"
   ]
  },
  {
   "cell_type": "markdown",
   "metadata": {},
   "source": [
    "<img src=\"./img/ch5-10.png\" width=\"600\">   \n",
    "<img src=\"./img/ch5-11.png\" width=\"600\">   \n",
    "<img src=\"./img/ch5-12.png\" width=\"600\">"
   ]
  },
  {
   "cell_type": "code",
   "execution_count": 20,
   "metadata": {},
   "outputs": [],
   "source": [
    "# Sigmoid 계층 구현\n",
    "class Sigmoid:\n",
    "    def __init__(self):\n",
    "        self.out = None\n",
    "        \n",
    "    def forward(self, x):\n",
    "        out = 1 / (1 + np.exp(-x))\n",
    "        self.out = out\n",
    "        \n",
    "        return out\n",
    "    \n",
    "    def backward(self, dout):\n",
    "        dx = dout * self.out * (1.0 - self.out)\n",
    "        \n",
    "        return dx"
   ]
  },
  {
   "cell_type": "markdown",
   "metadata": {},
   "source": [
    "##### 5.6 Affine/Softmax 계층 구현하기\n",
    "\n",
    "**Affine 계층**\n",
    "* 행렬의 곱 계산은 대응하는 차원의 원소 수 일치가 핵심\n",
    "* Affine: 행렬 곱의 기하학적 정의   \n",
    "\n",
    "<img src=\"./img/ch5-13.png\" width=\"600\">"
   ]
  },
  {
   "cell_type": "code",
   "execution_count": 1,
   "metadata": {},
   "outputs": [],
   "source": [
    "# Affine 계층 구현\n",
    "class Affine:\n",
    "    def __init__(self, W, b):\n",
    "        self.W = W\n",
    "        self.b = b\n",
    "        self.x = None\n",
    "        self.dW = None\n",
    "        self.db = None\n",
    "        \n",
    "    def forward(self, x):\n",
    "        self.x = x\n",
    "        out = np.dot(x, self.W) + self.b\n",
    "        \n",
    "        return out\n",
    "    \n",
    "    def backward(self, dout):\n",
    "        dx = np.dot(dout, self.W.T)\n",
    "        self.dW = np.dot(self.x.T, dout)\n",
    "        self.db = np.sum(dout, axis=0)\n",
    "        \n",
    "        return dx"
   ]
  },
  {
   "cell_type": "markdown",
   "metadata": {},
   "source": [
    "**Softmax-with-Loss 계층**\n",
    "* 소프트맥스 함수는 입력 값을 정규화하여 출력\n",
    "\n",
    "<img src=\"./img/ch5-14.png\" width=1000>"
   ]
  },
  {
   "cell_type": "code",
   "execution_count": 18,
   "metadata": {},
   "outputs": [],
   "source": [
    "from common.functions import softmax, cross_entropy_error\n",
    "# Softmax-with-Loss 계층 구현\n",
    "class SoftmaxWithLoss:\n",
    "    def __init__(self):\n",
    "        self.loss = None    # 손실\n",
    "        self.y = None       # Softmax 출력\n",
    "        self.t = None       # 정답 레이블(one-hot)\n",
    "        \n",
    "    def forward(self, x, t):\n",
    "        self.t = t\n",
    "        self.y = softmax(x)\n",
    "        self.loss = cross_entropy_error(self.y, self.t)\n",
    "        \n",
    "        return self.loss\n",
    "    \n",
    "    def backward(self, dout=1):\n",
    "        batch_size = self.t.shape[0]\n",
    "        dx = (self.y - self.t) / batch_size\n",
    "        \n",
    "        return dx"
   ]
  },
  {
   "cell_type": "markdown",
   "metadata": {},
   "source": [
    "##### 5.7 오차역전파법 구현하기\n",
    "\n",
    "* 전제: 신경망에서 학습은 가중치와 편향을 훈련 데이터에 적응하도록 조정하는 과정을 일컫는다.\n",
    "* 1단계 - 미니배치: 훈련 데이터 중 일부를 무작위로 가져옴, 미니배치의 손실 함수 값을 줄이는 것을 목표\n",
    "* 2단계 - 기울기 산출: 미니배치의 손실 함수 값을 줄이기 위해 각 가중치 매개변수의 기울기를 구함. - **오차역전파법**\n",
    "* 3단계 - 매개변수 갱신: 가중치 매개변수를 기울기 방향으로 아주 조금 갱신\n",
    "* 4단계 - 반복: 1-3단계 반복"
   ]
  },
  {
   "cell_type": "code",
   "execution_count": 40,
   "metadata": {},
   "outputs": [],
   "source": [
    "# 오차역전파법을 적용한 신경망 구현\n",
    "import numpy as np\n",
    "from common.layers import *\n",
    "from common.gradient import numerical_gradient\n",
    "from collections import OrderedDict\n",
    "\n",
    "class TwoLayerNet:\n",
    "    def __init__(self, input_size, hidden_size, output_size, weight_init_std=0.01):\n",
    "        # 가중치 초기화\n",
    "        self.params = {}\n",
    "        self.params['W1'] = weight_init_std * np.random.randn(input_size, hidden_size)\n",
    "        self.params['b1'] = np.zeros(hidden_size)\n",
    "        self.params['W2'] = weight_init_std * np.random.randn(hidden_size, output_size)\n",
    "        self.params['b2'] = np.zeros(output_size)\n",
    "        \n",
    "        # 계층 생성\n",
    "        self.layers = OrderedDict()\n",
    "        self.layers['Affine1'] = Affine(self.params['W1'], self.params['b1']) \n",
    "        self.layers['Relu1'] = Relu()\n",
    "        self.layers['Affine2'] = Affine(self.params['W2'], self.params['b2'])\n",
    "        \n",
    "        self.lastLayer = SoftmaxWithLoss()\n",
    "        \n",
    "    def predict(self, x):\n",
    "        for layer in self.layers.values():\n",
    "            x = layer.forward(x)\n",
    "            \n",
    "        return x\n",
    "    \n",
    "    def loss(self, x, t):\n",
    "        y = self.predict(x)\n",
    "        \n",
    "        return self.lastLayer.forward(y, t)\n",
    "        \n",
    "    def accuracy(self, x, t):\n",
    "        y = self.predict(x)\n",
    "        y = np.argmax(y, axis=1)\n",
    "        \n",
    "        if t.ndim != 1:\n",
    "            t = np.argmax(t, axis=1)\n",
    "        \n",
    "        accuracy = np.sum(y == t) / float(x.shape[0])\n",
    "        return accuracy\n",
    "    \n",
    "    def numerical_gradient(self, x, t):\n",
    "        loss_W = lambda W: self.loss(x, t)\n",
    "        \n",
    "        grads = {}\n",
    "        grads['W1'] = numerical_gradient(loss_W, self.params['W1'])\n",
    "        grads['b1'] = numerical_gradient(loss_W, self.params['b1']) \n",
    "        grads['W2'] = numerical_gradient(loss_W, self.params['W2'])\n",
    "        grads['b2'] = numerical_gradient(loss_W, self.params['b2'])\n",
    "        \n",
    "        return grads\n",
    "    \n",
    "    def gradient(self, x, t):\n",
    "        # 순전파\n",
    "        self.loss(x, t)\n",
    "        \n",
    "        # 역전파\n",
    "        dout = 1\n",
    "        dout = self.lastLayer.backward(dout)\n",
    "        \n",
    "        layers = list(self.layers.values())\n",
    "        layers.reverse()\n",
    "        for layer in layers:\n",
    "            dout = layer.backward(dout)        \n",
    "            \n",
    "        # 결과 저장\n",
    "        grads = {}\n",
    "        grads['W1'] = self.layers['Affine1'].dW\n",
    "        grads['b1'] = self.layers['Affine1'].db\n",
    "        grads['W2'] = self.layers['Affine2'].dW\n",
    "        grads['b2'] = self.layers['Affine2'].db\n",
    "        \n",
    "        return grads "
   ]
  },
  {
   "cell_type": "code",
   "execution_count": 37,
   "metadata": {},
   "outputs": [
    {
     "name": "stdout",
     "output_type": "stream",
     "text": [
      "W1:4.143353514396616e-10\n",
      "b1:2.429056998061029e-09\n",
      "W2:5.167873925152148e-09\n",
      "b2:1.3982744209994903e-07\n"
     ]
    }
   ],
   "source": [
    "# 오차 역전파법으로 구한 기울기 검증하기\n",
    "#   : 수치 미분법을 기준으로 오차 역전파법 기울기 확인\n",
    "from dataset.mnist import load_mnist\n",
    "\n",
    "# 데이터 읽기\n",
    "(x_train, t_train), (x_test, t_test) = load_mnist(normalize=True, one_hot_label=True)\n",
    "\n",
    "network = TwoLayerNet(input_size=784, hidden_size=50, output_size=10)\n",
    "\n",
    "x_batch = x_train[:3]\n",
    "t_batch = t_train[:3]\n",
    "\n",
    "grad_numerical = network.numerical_gradient(x_batch, t_batch)\n",
    "grad_backprop = network.gradient(x_batch, t_batch)\n",
    "\n",
    "# 각 가중치의 절대 오차의 평균을 구한다.\n",
    "for key in grad_numerical.keys():\n",
    "    diff = np.average( np.abs(grad_backprop[key] - grad_numerical[key]) )\n",
    "    print(key + \":\" + str(diff))"
   ]
  },
  {
   "cell_type": "code",
   "execution_count": 44,
   "metadata": {},
   "outputs": [
    {
     "data": {
      "image/png": "[encoded data removed]",
      "text/plain": [
       "<Figure size 640x480 with 1 Axes>"
      ]
     },
     "metadata": {},
     "output_type": "display_data"
    }
   ],
   "source": [
    "import matplotlib.pyplot as plt\n",
    "# 오차역전파법을 사용한 학습 구현하기\n",
    "(x_train, t_train), (x_test, t_test) = load_mnist(normalize=True, one_hot_label=True)\n",
    "\n",
    "network = TwoLayerNet(input_size=784, hidden_size=50, output_size=10)\n",
    "\n",
    "iters_num = 10000\n",
    "train_size = x_train.shape[0]\n",
    "batch_size = 100\n",
    "learning_rate = 0.1\n",
    "\n",
    "train_loss_list = []\n",
    "train_acc_list = []\n",
    "test_acc_list = []\n",
    "\n",
    "iter_per_epoch = max(train_size / batch_size, 1)\n",
    "\n",
    "for i in range(iters_num):\n",
    "    batch_mask = np.random.choice(train_size, batch_size)\n",
    "    x_batch = x_train[batch_mask]\n",
    "    t_batch = t_train[batch_mask]\n",
    "    \n",
    "    # 오차역전파법으로 기울기를 구한다.\n",
    "    grad = network.gradient(x_batch, t_batch)\n",
    "    \n",
    "    # 갱신\n",
    "    for key in('W1', 'b1', 'W2', 'b2'):\n",
    "        network.params[key] -= learning_rate * grad[key]\n",
    "        \n",
    "    loss = network.loss(x_batch, t_batch)\n",
    "    train_loss_list.append(loss)\n",
    "    \n",
    "    if i % iter_per_epoch == 0:\n",
    "        train_acc = network.accuracy(x_train, t_train)\n",
    "        test_acc = network.accuracy(x_test, t_test)\n",
    "        train_acc_list.append(train_acc)\n",
    "        test_acc_list.append(test_acc)\n",
    "        # print(train_acc, test_acc)\n",
    "        \n",
    "plt.plot(train_acc_list, label=\"train_acc\")  \n",
    "plt.plot(test_acc_list, linestyle=\"--\", label=\"test_acc\")\n",
    "plt.xlabel(\"Epoch\")\n",
    "plt.ylabel(\"Accuracy\")\n",
    "plt.legend()\n",
    "plt.show()"
   ]
  },
  {
   "cell_type": "markdown",
   "metadata": {},
   "source": [
    "##### 5.8 정리"
   ]
  }
 ],
 "metadata": {
  "kernelspec": {
   "display_name": "Python 3",
   "language": "python",
   "name": "python3"
  },
  "language_info": {
   "codemirror_mode": {
    "name": "ipython",
    "version": 3
   },
   "file_extension": ".py",
   "mimetype": "text/x-python",
   "name": "python",
   "nbconvert_exporter": "python",
   "pygments_lexer": "ipython3",
   "version": "3.11.4"
  },
  "orig_nbformat": 4
 },
 "nbformat": 4,
 "nbformat_minor": 2
}
