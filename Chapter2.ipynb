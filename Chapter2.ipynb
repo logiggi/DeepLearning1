{
 "cells": [
  {
   "cell_type": "markdown",
   "metadata": {},
   "source": [
    "# Chapter 2: 퍼셉트론\n",
    "---"
   ]
  },
  {
   "cell_type": "markdown",
   "metadata": {},
   "source": [
    "##### 2.1 퍼셉트론이란?\n",
    "\n",
    "* 신경망(딥러닝)의 기원이 되는 알고리즘\n",
    "* 다수의 입력을 받아 하나의 신호를 출력\n",
    "* 퍼셉트론 수식: 입력 신호와 가중치의 곱이 임계값을 넘으면 1, 그렇지 않으면 0을 출력   \n",
    "$y = \\begin{cases}0 (w_1x_1 + w_2x_2 \\leq \\Theta) \\\\ 1 (w_1x_1 + w_2x_2 > \\Theta)\\end{cases}$\n"
   ]
  },
  {
   "cell_type": "markdown",
   "metadata": {},
   "source": [
    "##### 2.2 단순한 논리 회로\n",
    "\n",
    "* AND 게이트나 NAND 게이트 등 다양한 논리 회로를 퍼셉트론으로 구현할 수 있다.\n",
    "* 가령, AND 게이트의 경우는 $x_1$ 와 $x_2$가 모두 1일 때만 1을 출력해야 하기 때문에 $(w_1, w_2, \\Theta)$ 를 $(0.5, 0.5, 0.9)$ 로 가중치와 임계값을 설정하여     \n",
    "퍼셉트론을 구현할 수 있다."
   ]
  },
  {
   "cell_type": "markdown",
   "metadata": {},
   "source": [
    "##### 2.3 퍼셉트론 구현하기"
   ]
  },
  {
   "cell_type": "code",
   "execution_count": 10,
   "metadata": {},
   "outputs": [
    {
     "name": "stdout",
     "output_type": "stream",
     "text": [
      "x1: 0, x2: 0 = 0\n",
      "x1: 1, x2: 0 = 0\n",
      "x1: 0, x2: 1 = 0\n",
      "x1: 1, x2: 1 = 1\n"
     ]
    }
   ],
   "source": [
    "# AND\n",
    "def AND(x1, x2):\n",
    "    w1, w2, theta = 0.5, 0.5, 0.9\n",
    "    tmp = w1*x1 + w2*x2\n",
    "    if tmp <= theta:\n",
    "        return 0\n",
    "    return 1\n",
    "\n",
    "print(\"x1: 0, x2: 0 =\", AND(0, 0))\n",
    "print(\"x1: 1, x2: 0 =\", AND(1, 0))\n",
    "print(\"x1: 0, x2: 1 =\", AND(0, 1))\n",
    "print(\"x1: 1, x2: 1 =\", AND(1, 1))"
   ]
  },
  {
   "cell_type": "markdown",
   "metadata": {},
   "source": [
    "**가중치와 편향 도입**\n",
    "\n",
    "* $\\theta$를 $-b$로 치환   \n",
    "$y = \\begin{cases}0 (b + w_1x_1 + w_2x_2 \\leq 0) \\\\ 1 (b + w_1x_1 + w_2x_2 > 0)\\end{cases}$\n",
    "* $b$를 편향(bias) 라고 한다."
   ]
  },
  {
   "cell_type": "code",
   "execution_count": 11,
   "metadata": {},
   "outputs": [
    {
     "name": "stdout",
     "output_type": "stream",
     "text": [
      "0.5\n",
      "-0.4\n"
     ]
    }
   ],
   "source": [
    "import numpy as np\n",
    "\n",
    "x = np.array([0, 1])        # 입력\n",
    "w = np.array([0.5, 0.5])    # 가중치\n",
    "b = -0.9                    # 편향\n",
    "print(sum(w*x))\n",
    "print(sum(w*x) + b) "
   ]
  },
  {
   "cell_type": "code",
   "execution_count": 12,
   "metadata": {},
   "outputs": [],
   "source": [
    "def AND(x1, x2):\n",
    "    x = np.array([x1, x2])\n",
    "    w = np.array([0.5, 0.5])\n",
    "    b = -0.9\n",
    "    tmp = np.sum(w*x) + b\n",
    "    if tmp <= 0:\n",
    "        return 0\n",
    "    return 1"
   ]
  },
  {
   "cell_type": "markdown",
   "metadata": {},
   "source": [
    "**가중치**는 각 입력 신호가 결과에 주는 영향력을 조절하는 매개변수,   \n",
    "**편향**은 뉴런이 얼마나 쉽게 활성화 하느냐를 조정하는 매개변수"
   ]
  },
  {
   "cell_type": "code",
   "execution_count": 13,
   "metadata": {},
   "outputs": [],
   "source": [
    "# NAND 와 OR\n",
    "def NAND(x1, x2):\n",
    "    x = np.array([x1, x2])\n",
    "    w = np.array([-0.5, -0.5])\n",
    "    b = 0.9\n",
    "    tmp = sum(w*x) + b\n",
    "    if tmp <= 0:\n",
    "        return 0\n",
    "    return 1\n",
    "\n",
    "def OR(x1, x2):\n",
    "    x = np.array([x1, x2])\n",
    "    w = np.array([0.5, 0.5])\n",
    "    b = -0.4\n",
    "    tmp = sum(w*x) + b\n",
    "    if tmp <= 0:\n",
    "        return 0\n",
    "    return 1"
   ]
  },
  {
   "cell_type": "markdown",
   "metadata": {},
   "source": [
    "##### 2.4 퍼셉트론의 한계\n",
    "\n",
    "* 지금까지 본 퍼셉트론으로는 XOR 게이트 구현 불가   \n",
    "\n",
    "<img src=\"./img/ch2-1.png\" width=\"700\" height=\"300\">"
   ]
  },
  {
   "attachments": {
    "image-2.png": {
     "image/png": "[encoded data removed]"
    }
   },
   "cell_type": "markdown",
   "metadata": {},
   "source": [
    "##### 2.5 다충 퍼셉트론이 출동한다면\n",
    "* 기존 게이트들을 조합하여 XOR을 만들 수 있다.   \n",
    "\n",
    "![image-2.png](attachment:image-2.png)"
   ]
  },
  {
   "cell_type": "code",
   "execution_count": 15,
   "metadata": {},
   "outputs": [
    {
     "name": "stdout",
     "output_type": "stream",
     "text": [
      "x1: 0, x2: 0 = 0\n",
      "x1: 1, x2: 0 = 1\n",
      "x1: 0, x2: 1 = 1\n",
      "x1: 1, x2: 1 = 0\n"
     ]
    }
   ],
   "source": [
    "def XOR(x1, x2):\n",
    "    s1 = NAND(x1, x2)\n",
    "    s2 = OR(x1, x2)\n",
    "    y = AND(s1, s2)\n",
    "    return y\n",
    "\n",
    "print(\"x1: 0, x2: 0 =\", XOR(0,0))\n",
    "print(\"x1: 1, x2: 0 =\", XOR(1,0))\n",
    "print(\"x1: 0, x2: 1 =\", XOR(0,1))\n",
    "print(\"x1: 1, x2: 1 =\", XOR(1,1))"
   ]
  },
  {
   "cell_type": "markdown",
   "metadata": {},
   "source": [
    "* XOR과 같이 층이 여러 개인 퍼셉트론 = **다층 퍼셉트론** <=> 단층 퍼셉트론   \n",
    "\n",
    "<img src=\"./img/ch2-2.png\" width=\"400\" height=\"400\">\n",
    "\n",
    "1. 0층의 두 뉴런이 입력 신호를 받아 1층의 뉴런으로 신호를 보낸다.\n",
    "2. 1층의 뉴런이 2층의 뉴런으로 신호를 보내고, 2층의 뉴런은 y를 출력한다."
   ]
  },
  {
   "cell_type": "markdown",
   "metadata": {},
   "source": [
    "##### 2.6 NAND에서 컴퓨터까지\n",
    "* 단층 퍼셉트론으로 사용하여 다층 퍼셉트론을 만들다 보면 XOR은 물론 가산기, 인코더 등 컴퓨터까지 표현할 수 있다!\n"
   ]
  },
  {
   "cell_type": "markdown",
   "metadata": {},
   "source": [
    "##### 2.7 정리"
   ]
  }
 ],
 "metadata": {
  "kernelspec": {
   "display_name": "Python 3",
   "language": "python",
   "name": "python3"
  },
  "language_info": {
   "codemirror_mode": {
    "name": "ipython",
    "version": 3
   },
   "file_extension": ".py",
   "mimetype": "text/x-python",
   "name": "python",
   "nbconvert_exporter": "python",
   "pygments_lexer": "ipython3",
   "version": "3.11.4"
  },
  "orig_nbformat": 4
 },
 "nbformat": 4,
 "nbformat_minor": 2
}
